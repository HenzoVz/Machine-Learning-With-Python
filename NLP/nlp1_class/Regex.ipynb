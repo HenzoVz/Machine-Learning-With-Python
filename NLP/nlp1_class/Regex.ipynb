{
 "cells": [
  {
   "cell_type": "markdown",
   "metadata": {},
   "source": [
    "### Tokenizing Words"
   ]
  },
  {
   "cell_type": "code",
   "execution_count": 1,
   "metadata": {},
   "outputs": [],
   "source": [
    "# Tokenization of paragraphs/sentences\n",
    "import nltk\n",
    "#nltk.download()\n",
    "\n",
    "paragraph = \"\"\"Thank you all so very much. Thank you to the Academy. \n",
    "               Thank you to all of you in this room. I have to congratulate \n",
    "               the other incredible nominees this year. The Revenant was \n",
    "               the product of the tireless efforts of an unbelievable cast\n",
    "               and crew. First off, to my brother in this endeavor, Mr. Tom \n",
    "               Hardy. Tom, your talent on screen can only be surpassed by \n",
    "               your friendship off screen … thank you for creating a t\n",
    "               ranscendent cinematic experience. Thank you to everybody at \n",
    "               Fox and New Regency … my entire team. I have to thank \n",
    "               everyone from the very onset of my career … To my parents; \n",
    "               none of this would be possible without you. And to my \n",
    "               friends, I love you dearly; you know who you are. And lastly,\n",
    "               I just want to say this: Making The Revenant was about\n",
    "               man's relationship to the natural world. A world that we\n",
    "               collectively felt in 2015 as the hottest year in recorded\n",
    "               history. Our production needed to move to the southern\n",
    "               tip of this planet just to be able to find snow. Climate\n",
    "               change is real, it is happening right now. It is the most\n",
    "               urgent threat facing our entire species, and we need to work\n",
    "               collectively together and stop procrastinating. We need to\n",
    "               support leaders around the world who do not speak for the \n",
    "               big polluters, but who speak for all of humanity, for the\n",
    "               indigenous people of the world, for the billions and \n",
    "               billions of underprivileged people out there who would be\n",
    "               most affected by this. For our children’s children, and \n",
    "               for those people out there whose voices have been drowned\n",
    "               out by the politics of greed. I thank you all for this \n",
    "               amazing award tonight. Let us not take this planet for \n",
    "               granted. I do not take tonight for granted. Thank you so very much.\"\"\"            "
   ]
  },
  {
   "cell_type": "code",
   "execution_count": 2,
   "metadata": {},
   "outputs": [
    {
     "data": {
      "text/plain": [
       "['Thank you all so very much.',\n",
       " 'Thank you to the Academy.',\n",
       " 'Thank you to all of you in this room.',\n",
       " 'I have to congratulate \\n               the other incredible nominees this year.',\n",
       " 'The Revenant was \\n               the product of the tireless efforts of an unbelievable cast\\n               and crew.',\n",
       " 'First off, to my brother in this endeavor, Mr. Tom \\n               Hardy.',\n",
       " 'Tom, your talent on screen can only be surpassed by \\n               your friendship off screen … thank you for creating a t\\n               ranscendent cinematic experience.',\n",
       " 'Thank you to everybody at \\n               Fox and New Regency … my entire team.',\n",
       " 'I have to thank \\n               everyone from the very onset of my career … To my parents; \\n               none of this would be possible without you.',\n",
       " 'And to my \\n               friends, I love you dearly; you know who you are.',\n",
       " \"And lastly,\\n               I just want to say this: Making The Revenant was about\\n               man's relationship to the natural world.\",\n",
       " 'A world that we\\n               collectively felt in 2015 as the hottest year in recorded\\n               history.',\n",
       " 'Our production needed to move to the southern\\n               tip of this planet just to be able to find snow.',\n",
       " 'Climate\\n               change is real, it is happening right now.',\n",
       " 'It is the most\\n               urgent threat facing our entire species, and we need to work\\n               collectively together and stop procrastinating.',\n",
       " 'We need to\\n               support leaders around the world who do not speak for the \\n               big polluters, but who speak for all of humanity, for the\\n               indigenous people of the world, for the billions and \\n               billions of underprivileged people out there who would be\\n               most affected by this.',\n",
       " 'For our children’s children, and \\n               for those people out there whose voices have been drowned\\n               out by the politics of greed.',\n",
       " 'I thank you all for this \\n               amazing award tonight.',\n",
       " 'Let us not take this planet for \\n               granted.',\n",
       " 'I do not take tonight for granted.',\n",
       " 'Thank you so very much.']"
      ]
     },
     "execution_count": 2,
     "metadata": {},
     "output_type": "execute_result"
    }
   ],
   "source": [
    "# Tokenizing sentences\n",
    "sentences = nltk.sent_tokenize(paragraph)\n",
    "sentences"
   ]
  },
  {
   "cell_type": "code",
   "execution_count": 3,
   "metadata": {},
   "outputs": [
    {
     "data": {
      "text/plain": [
       "['Thank',\n",
       " 'you',\n",
       " 'all',\n",
       " 'so',\n",
       " 'very',\n",
       " 'much',\n",
       " '.',\n",
       " 'Thank',\n",
       " 'you',\n",
       " 'to',\n",
       " 'the',\n",
       " 'Academy',\n",
       " '.',\n",
       " 'Thank',\n",
       " 'you',\n",
       " 'to',\n",
       " 'all',\n",
       " 'of',\n",
       " 'you',\n",
       " 'in',\n",
       " 'this',\n",
       " 'room',\n",
       " '.',\n",
       " 'I',\n",
       " 'have',\n",
       " 'to',\n",
       " 'congratulate',\n",
       " 'the',\n",
       " 'other',\n",
       " 'incredible',\n",
       " 'nominees',\n",
       " 'this',\n",
       " 'year',\n",
       " '.',\n",
       " 'The',\n",
       " 'Revenant',\n",
       " 'was',\n",
       " 'the',\n",
       " 'product',\n",
       " 'of',\n",
       " 'the',\n",
       " 'tireless',\n",
       " 'efforts',\n",
       " 'of',\n",
       " 'an',\n",
       " 'unbelievable',\n",
       " 'cast',\n",
       " 'and',\n",
       " 'crew',\n",
       " '.',\n",
       " 'First',\n",
       " 'off',\n",
       " ',',\n",
       " 'to',\n",
       " 'my',\n",
       " 'brother',\n",
       " 'in',\n",
       " 'this',\n",
       " 'endeavor',\n",
       " ',',\n",
       " 'Mr.',\n",
       " 'Tom',\n",
       " 'Hardy',\n",
       " '.',\n",
       " 'Tom',\n",
       " ',',\n",
       " 'your',\n",
       " 'talent',\n",
       " 'on',\n",
       " 'screen',\n",
       " 'can',\n",
       " 'only',\n",
       " 'be',\n",
       " 'surpassed',\n",
       " 'by',\n",
       " 'your',\n",
       " 'friendship',\n",
       " 'off',\n",
       " 'screen',\n",
       " '…',\n",
       " 'thank',\n",
       " 'you',\n",
       " 'for',\n",
       " 'creating',\n",
       " 'a',\n",
       " 't',\n",
       " 'ranscendent',\n",
       " 'cinematic',\n",
       " 'experience',\n",
       " '.',\n",
       " 'Thank',\n",
       " 'you',\n",
       " 'to',\n",
       " 'everybody',\n",
       " 'at',\n",
       " 'Fox',\n",
       " 'and',\n",
       " 'New',\n",
       " 'Regency',\n",
       " '…',\n",
       " 'my',\n",
       " 'entire',\n",
       " 'team',\n",
       " '.',\n",
       " 'I',\n",
       " 'have',\n",
       " 'to',\n",
       " 'thank',\n",
       " 'everyone',\n",
       " 'from',\n",
       " 'the',\n",
       " 'very',\n",
       " 'onset',\n",
       " 'of',\n",
       " 'my',\n",
       " 'career',\n",
       " '…',\n",
       " 'To',\n",
       " 'my',\n",
       " 'parents',\n",
       " ';',\n",
       " 'none',\n",
       " 'of',\n",
       " 'this',\n",
       " 'would',\n",
       " 'be',\n",
       " 'possible',\n",
       " 'without',\n",
       " 'you',\n",
       " '.',\n",
       " 'And',\n",
       " 'to',\n",
       " 'my',\n",
       " 'friends',\n",
       " ',',\n",
       " 'I',\n",
       " 'love',\n",
       " 'you',\n",
       " 'dearly',\n",
       " ';',\n",
       " 'you',\n",
       " 'know',\n",
       " 'who',\n",
       " 'you',\n",
       " 'are',\n",
       " '.',\n",
       " 'And',\n",
       " 'lastly',\n",
       " ',',\n",
       " 'I',\n",
       " 'just',\n",
       " 'want',\n",
       " 'to',\n",
       " 'say',\n",
       " 'this',\n",
       " ':',\n",
       " 'Making',\n",
       " 'The',\n",
       " 'Revenant',\n",
       " 'was',\n",
       " 'about',\n",
       " 'man',\n",
       " \"'s\",\n",
       " 'relationship',\n",
       " 'to',\n",
       " 'the',\n",
       " 'natural',\n",
       " 'world',\n",
       " '.',\n",
       " 'A',\n",
       " 'world',\n",
       " 'that',\n",
       " 'we',\n",
       " 'collectively',\n",
       " 'felt',\n",
       " 'in',\n",
       " '2015',\n",
       " 'as',\n",
       " 'the',\n",
       " 'hottest',\n",
       " 'year',\n",
       " 'in',\n",
       " 'recorded',\n",
       " 'history',\n",
       " '.',\n",
       " 'Our',\n",
       " 'production',\n",
       " 'needed',\n",
       " 'to',\n",
       " 'move',\n",
       " 'to',\n",
       " 'the',\n",
       " 'southern',\n",
       " 'tip',\n",
       " 'of',\n",
       " 'this',\n",
       " 'planet',\n",
       " 'just',\n",
       " 'to',\n",
       " 'be',\n",
       " 'able',\n",
       " 'to',\n",
       " 'find',\n",
       " 'snow',\n",
       " '.',\n",
       " 'Climate',\n",
       " 'change',\n",
       " 'is',\n",
       " 'real',\n",
       " ',',\n",
       " 'it',\n",
       " 'is',\n",
       " 'happening',\n",
       " 'right',\n",
       " 'now',\n",
       " '.',\n",
       " 'It',\n",
       " 'is',\n",
       " 'the',\n",
       " 'most',\n",
       " 'urgent',\n",
       " 'threat',\n",
       " 'facing',\n",
       " 'our',\n",
       " 'entire',\n",
       " 'species',\n",
       " ',',\n",
       " 'and',\n",
       " 'we',\n",
       " 'need',\n",
       " 'to',\n",
       " 'work',\n",
       " 'collectively',\n",
       " 'together',\n",
       " 'and',\n",
       " 'stop',\n",
       " 'procrastinating',\n",
       " '.',\n",
       " 'We',\n",
       " 'need',\n",
       " 'to',\n",
       " 'support',\n",
       " 'leaders',\n",
       " 'around',\n",
       " 'the',\n",
       " 'world',\n",
       " 'who',\n",
       " 'do',\n",
       " 'not',\n",
       " 'speak',\n",
       " 'for',\n",
       " 'the',\n",
       " 'big',\n",
       " 'polluters',\n",
       " ',',\n",
       " 'but',\n",
       " 'who',\n",
       " 'speak',\n",
       " 'for',\n",
       " 'all',\n",
       " 'of',\n",
       " 'humanity',\n",
       " ',',\n",
       " 'for',\n",
       " 'the',\n",
       " 'indigenous',\n",
       " 'people',\n",
       " 'of',\n",
       " 'the',\n",
       " 'world',\n",
       " ',',\n",
       " 'for',\n",
       " 'the',\n",
       " 'billions',\n",
       " 'and',\n",
       " 'billions',\n",
       " 'of',\n",
       " 'underprivileged',\n",
       " 'people',\n",
       " 'out',\n",
       " 'there',\n",
       " 'who',\n",
       " 'would',\n",
       " 'be',\n",
       " 'most',\n",
       " 'affected',\n",
       " 'by',\n",
       " 'this',\n",
       " '.',\n",
       " 'For',\n",
       " 'our',\n",
       " 'children',\n",
       " '’',\n",
       " 's',\n",
       " 'children',\n",
       " ',',\n",
       " 'and',\n",
       " 'for',\n",
       " 'those',\n",
       " 'people',\n",
       " 'out',\n",
       " 'there',\n",
       " 'whose',\n",
       " 'voices',\n",
       " 'have',\n",
       " 'been',\n",
       " 'drowned',\n",
       " 'out',\n",
       " 'by',\n",
       " 'the',\n",
       " 'politics',\n",
       " 'of',\n",
       " 'greed',\n",
       " '.',\n",
       " 'I',\n",
       " 'thank',\n",
       " 'you',\n",
       " 'all',\n",
       " 'for',\n",
       " 'this',\n",
       " 'amazing',\n",
       " 'award',\n",
       " 'tonight',\n",
       " '.',\n",
       " 'Let',\n",
       " 'us',\n",
       " 'not',\n",
       " 'take',\n",
       " 'this',\n",
       " 'planet',\n",
       " 'for',\n",
       " 'granted',\n",
       " '.',\n",
       " 'I',\n",
       " 'do',\n",
       " 'not',\n",
       " 'take',\n",
       " 'tonight',\n",
       " 'for',\n",
       " 'granted',\n",
       " '.',\n",
       " 'Thank',\n",
       " 'you',\n",
       " 'so',\n",
       " 'very',\n",
       " 'much',\n",
       " '.']"
      ]
     },
     "execution_count": 3,
     "metadata": {},
     "output_type": "execute_result"
    }
   ],
   "source": [
    "# Tokenizing words\n",
    "words = nltk.word_tokenize(paragraph) \n",
    "words"
   ]
  },
  {
   "cell_type": "code",
   "execution_count": 4,
   "metadata": {},
   "outputs": [
    {
     "name": "stdout",
     "output_type": "stream",
     "text": [
      "Matches!\n",
      "Match!\n"
     ]
    }
   ],
   "source": [
    "# Importing Libraries\n",
    "import re\n",
    "\n",
    "pattern1 = \"Apples are tasty\"\n",
    "pattern2 = \"Today I feel like crying.\"\n",
    "\n",
    "#Se zero ou mais caracteres no início da string corresponderem ao padrão de expressão regular\n",
    "if re.match(r\"^Apples\",pattern1):\n",
    "    print(\"Matches!\")\n",
    "else:\n",
    "    print(\"No Match!\")\n",
    "\n",
    "# Verificando se o termo de pesquisa existe no texto    \n",
    "if re.search(r\"\\.$\",pattern2):\n",
    "    print(\"Match!\")\n",
    "else:\n",
    "    print(\"No Match!\")"
   ]
  },
  {
   "cell_type": "code",
   "execution_count": 9,
   "metadata": {},
   "outputs": [
    {
     "name": "stdout",
     "output_type": "stream",
     "text": [
      "I love Justice League\n",
      "0 love Avengers\n"
     ]
    }
   ],
   "source": [
    "import re\n",
    "\n",
    "pattern1 = \"I love Avengers\" #I love Justice League\n",
    "\n",
    "print(re.sub(r\"Avengers\",\"Justice League\",pattern1))\n",
    "\n",
    "print(re.sub(r\"[a-z]\",\"0\",pattern1,1,flags=re.I))"
   ]
  },
  {
   "cell_type": "code",
   "execution_count": 14,
   "metadata": {},
   "outputs": [
    {
     "data": {
      "text/plain": [
       "'Welcome to the year '"
      ]
     },
     "execution_count": 14,
     "metadata": {},
     "output_type": "execute_result"
    }
   ],
   "source": [
    "import re\n",
    "\n",
    "sentence1 = \"Welcome to the year 2018\"\n",
    "sentence2 = \"Just ~%* ++++--- arrived at @Jack's place. #fun\"\n",
    "sentence3 = \"I                  love                u\"\n",
    "\n",
    "sentence1_modified = re.sub(r'\\d','',sentence1)\n",
    "sentence1_modified"
   ]
  },
  {
   "cell_type": "code",
   "execution_count": 15,
   "metadata": {},
   "outputs": [
    {
     "data": {
      "text/plain": [
       "'Just ~%* ++++--- arrived at Jacks place fun'"
      ]
     },
     "execution_count": 15,
     "metadata": {},
     "output_type": "execute_result"
    }
   ],
   "source": [
    "sentence2_modified = re.sub(r'[@#\\.\\']','',sentence2)\n",
    "sentence2_modified"
   ]
  },
  {
   "cell_type": "code",
   "execution_count": 16,
   "metadata": {},
   "outputs": [
    {
     "data": {
      "text/plain": [
       "'Just             arrived at  Jack s place   fun'"
      ]
     },
     "execution_count": 16,
     "metadata": {},
     "output_type": "execute_result"
    }
   ],
   "source": [
    "sentence2_modified = re.sub(r'\\W',' ',sentence2)\n",
    "sentence2_modified"
   ]
  },
  {
   "cell_type": "code",
   "execution_count": 17,
   "metadata": {},
   "outputs": [
    {
     "data": {
      "text/plain": [
       "'Just arrived at Jack s place fun'"
      ]
     },
     "execution_count": 17,
     "metadata": {},
     "output_type": "execute_result"
    }
   ],
   "source": [
    "sentence2_modified = re.sub(r'\\s+',' ',sentence2_modified)                               \n",
    "sentence2_modified"
   ]
  },
  {
   "cell_type": "code",
   "execution_count": 18,
   "metadata": {},
   "outputs": [
    {
     "data": {
      "text/plain": [
       "'Just arrived at Jack place fun'"
      ]
     },
     "execution_count": 18,
     "metadata": {},
     "output_type": "execute_result"
    }
   ],
   "source": [
    "sentence2_modified = re.sub(r\"\\s+[a-zA-Z]\\s+\",' ',sentence2_modified)\n",
    "sentence2_modified"
   ]
  },
  {
   "cell_type": "code",
   "execution_count": 19,
   "metadata": {},
   "outputs": [
    {
     "data": {
      "text/plain": [
       "'I love u'"
      ]
     },
     "execution_count": 19,
     "metadata": {},
     "output_type": "execute_result"
    }
   ],
   "source": [
    "sentence3_modified = re.sub(r'\\s+',' ',sentence3)     \n",
    "sentence3_modified"
   ]
  },
  {
   "cell_type": "code",
   "execution_count": 20,
   "metadata": {},
   "outputs": [],
   "source": [
    "import re\n",
    "\n",
    "X = [\"This is a wolf @scary\",\n",
    "     \"Welcome to the jungle #missing\",\n",
    "     \"111322 the number to know\",\n",
    "     \"Remember the name s - John\",\n",
    "     \"I                love               you\"]\n",
    "\n",
    "\n",
    "for i in range(len(X)):\n",
    "    X[i] = re.sub(r\"\\W\",\" \",X[i])\n",
    "    X[i] = re.sub(r\"\\d\",\" \",X[i])\n",
    "    X[i] = re.sub(r\"\\s+[a-z]\\s+\",\" \",X[i],flags=re.I)\n",
    "    X[i] = re.sub(r\"\\s+\",\" \",X[i])\n",
    "    X[i] = re.sub(r\"^\\s\",\"\",X[i])\n",
    "    X[i] = re.sub(r\"\\s$\",\"\",X[i])"
   ]
  },
  {
   "cell_type": "code",
   "execution_count": 21,
   "metadata": {},
   "outputs": [
    {
     "name": "stdout",
     "output_type": "stream",
     "text": [
      "['This is wolf scary', 'Welcome to the jungle missing', 'the number to know', 'Remember the name John', 'I love you']\n"
     ]
    }
   ],
   "source": [
    "print(X)"
   ]
  }
 ],
 "metadata": {
  "kernelspec": {
   "display_name": "Python 3",
   "language": "python",
   "name": "python3"
  },
  "language_info": {
   "codemirror_mode": {
    "name": "ipython",
    "version": 3
   },
   "file_extension": ".py",
   "mimetype": "text/x-python",
   "name": "python",
   "nbconvert_exporter": "python",
   "pygments_lexer": "ipython3",
   "version": "3.6.7"
  }
 },
 "nbformat": 4,
 "nbformat_minor": 2
}
