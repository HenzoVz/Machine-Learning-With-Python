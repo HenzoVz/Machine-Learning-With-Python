{
 "cells": [
  {
   "cell_type": "code",
   "execution_count": 2,
   "metadata": {},
   "outputs": [
    {
     "name": "stdout",
     "output_type": "stream",
     "text": [
      "0.6885414149062071\n",
      "5736222.703411908\n"
     ]
    },
    {
     "data": {
      "text/plain": [
       "16"
      ]
     },
     "execution_count": 2,
     "metadata": {},
     "output_type": "execute_result"
    }
   ],
   "source": [
    "import pandas as pd\n",
    "\n",
    "base = pd.read_csv('../data/house_prices.csv')\n",
    "\n",
    "X = base.iloc[:, 3:19].values\n",
    "y = base.iloc[:, 2].values\n",
    "\n",
    "from sklearn.model_selection import train_test_split\n",
    "X_train, X_test, y_train, y_test = train_test_split(X, y,\n",
    "                                                                  test_size = 0.3,\n",
    "                                                                  random_state = 0)\n",
    "from sklearn.linear_model import LinearRegression\n",
    "regressor = LinearRegression()\n",
    "regressor.fit(X_treinamento, y_treinamento)\n",
    "score = regressor.score(X_treinamento, y_treinamento)\n",
    "\n",
    "previsoes = regressor.predict(X_teste)\n",
    "\n",
    "from sklearn.metrics import mean_absolute_error\n",
    "mae = mean_absolute_error(y_teste, previsoes)\n",
    "\n",
    "print(regressor.score(X_teste, y_teste))\n",
    "\n",
    "print(regressor.intercept_)\n",
    "len(regressor.coef_)"
   ]
  },
  {
   "cell_type": "code",
   "execution_count": 5,
   "metadata": {},
   "outputs": [],
   "source": [
    "import pandas as pd\n",
    "\n",
    "base = pd.read_csv('../data/plano_saude2.csv')\n",
    "\n",
    "X = base.iloc[:, 0:1].values\n",
    "y = base.iloc[:, 1].values\n",
    "\n",
    "# Regressão linear simples\n",
    "from sklearn.linear_model import LinearRegression\n",
    "regressor1 = LinearRegression()\n",
    "regressor1.fit(X, y)\n",
    "score1 = regressor1.score(X, y)\n",
    "\n",
    "#regressor1.predict(40)"
   ]
  },
  {
   "cell_type": "code",
   "execution_count": 10,
   "metadata": {},
   "outputs": [
    {
     "data": {
      "text/plain": [
       "Text(0, 0.5, 'Custo')"
      ]
     },
     "execution_count": 10,
     "metadata": {},
     "output_type": "execute_result"
    },
    {
     "data": {
      "image/png": "[encoded data removed]",
      "text/plain": [
       "<Figure size 432x288 with 1 Axes>"
      ]
     },
     "metadata": {
      "needs_background": "light"
     },
     "output_type": "display_data"
    }
   ],
   "source": [
    "import matplotlib.pyplot as plt\n",
    "plt.scatter(X, y)\n",
    "plt.plot(X, regressor1.predict(X), color = 'red')\n",
    "plt.title('Regressão linear')\n",
    "plt.xlabel('Idade')\n",
    "plt.ylabel('Custo')"
   ]
  },
  {
   "cell_type": "code",
   "execution_count": 8,
   "metadata": {},
   "outputs": [],
   "source": [
    "# Regressão polinomial\n",
    "from sklearn.preprocessing import PolynomialFeatures\n",
    "poly = PolynomialFeatures(degree = 4)\n",
    "X_poly = poly.fit_transform(X)\n",
    "\n",
    "regressor2 = LinearRegression()\n",
    "regressor2.fit(X_poly, y)\n",
    "score2 = regressor2.score(X_poly, y)\n",
    "\n",
    "#regressor2.predict(poly.transform(40))"
   ]
  },
  {
   "cell_type": "code",
   "execution_count": 9,
   "metadata": {},
   "outputs": [
    {
     "data": {
      "text/plain": [
       "Text(0, 0.5, 'Custo')"
      ]
     },
     "execution_count": 9,
     "metadata": {},
     "output_type": "execute_result"
    },
    {
     "data": {
      "image/png": "[encoded data removed]",
      "text/plain": [
       "<Figure size 432x288 with 1 Axes>"
      ]
     },
     "metadata": {
      "needs_background": "light"
     },
     "output_type": "display_data"
    }
   ],
   "source": [
    "plt.scatter(X, y)\n",
    "plt.plot(X, regressor2.predict(poly.fit_transform(X)), color = 'red')\n",
    "plt.title('Regressão polinomial')\n",
    "plt.xlabel('Idade')\n",
    "plt.ylabel('Custo')"
   ]
  },
  {
   "cell_type": "code",
   "execution_count": 16,
   "metadata": {},
   "outputs": [
    {
     "name": "stdout",
     "output_type": "stream",
     "text": [
      "linear model coeff (w): [166.74887892]\n",
      "linear model intercept (b): -4040.919\n",
      "R-squared score (training): 0.633\n",
      "R-squared score (test): 0.867\n",
      "\n",
      "Now we transform the original input data to add\n",
      "polynomial features up to degree 2 (quadratic)\n",
      "\n",
      "(poly deg 2) linear model coeff (w):\n",
      "[   0.         -540.85126038    8.93110884]\n",
      "(poly deg 2) linear model intercept (b): 7939.863\n",
      "(poly deg 2) R-squared score (training): 0.941\n",
      "(poly deg 2) R-squared score (test): 0.687\n",
      "\n",
      "\n",
      "A adição de muitos recursos polinomiais geralmente leva a\n",
      "overfitting, então freqüentemente usamos recursos polinomiais em combinação\n",
      "com regressão que tem uma penalidade de regularização, como cume\n",
      "regressão.\n",
      "\n",
      "(poly deg 2 + ridge) linear model coeff (w):\n",
      "[   0.         -528.20446561    8.77567039]\n",
      "(poly deg 2 + ridge) linear model intercept (b): 7718.036\n",
      "(poly deg 2 + ridge) R-squared score (training): 0.941\n",
      "(poly deg 2 + ridge) R-squared score (test): 0.696\n"
     ]
    }
   ],
   "source": [
    "from sklearn.linear_model import LinearRegression\n",
    "from sklearn.linear_model import Ridge\n",
    "from sklearn.preprocessing import PolynomialFeatures\n",
    "\n",
    "\n",
    "X_train, X_test, y_train, y_test = train_test_split(X, y,\n",
    "                                                   random_state = 0, test_size=0.3)\n",
    "linreg = LinearRegression().fit(X_train, y_train)\n",
    "\n",
    "print('linear model coeff (w): {}'\n",
    "     .format(linreg.coef_))\n",
    "print('linear model intercept (b): {:.3f}'\n",
    "     .format(linreg.intercept_))\n",
    "print('R-squared score (training): {:.3f}'\n",
    "     .format(linreg.score(X_train, y_train)))\n",
    "print('R-squared score (test): {:.3f}'\n",
    "     .format(linreg.score(X_test, y_test)))\n",
    "\n",
    "print('\\nNow we transform the original input data to add\\n\\\n",
    "polynomial features up to degree 2 (quadratic)\\n')\n",
    "poly = PolynomialFeatures(degree=2)\n",
    "X_poly = poly.fit_transform(X)\n",
    "\n",
    "X_train, X_test, y_train, y_test = train_test_split(X_poly, y,\n",
    "                                                   random_state = 0, test_size=0.3)\n",
    "linreg = LinearRegression().fit(X_train, y_train)\n",
    "\n",
    "print('(poly deg 2) linear model coeff (w):\\n{}'\n",
    "     .format(linreg.coef_))\n",
    "print('(poly deg 2) linear model intercept (b): {:.3f}'\n",
    "     .format(linreg.intercept_))\n",
    "print('(poly deg 2) R-squared score (training): {:.3f}'\n",
    "     .format(linreg.score(X_train, y_train)))\n",
    "print('(poly deg 2) R-squared score (test): {:.3f}\\n'\n",
    "     .format(linreg.score(X_test, y_test)))\n",
    "\n",
    "print('\\nA adição de muitos recursos polinomiais geralmente leva a\\n\\\n",
    "overfitting, então freqüentemente usamos recursos polinomiais em combinação\\n\\\n",
    "com regressão que tem uma penalidade de regularização, como cume\\n\\\n",
    "regressão.\\n')\n",
    "\n",
    "X_train, X_test, y_train, y_test = train_test_split(X_poly, y,\n",
    "                                                   random_state = 0, test_size=0.3)\n",
    "linreg = Ridge().fit(X_train, y_train)\n",
    "\n",
    "print('(poly deg 2 + ridge) linear model coeff (w):\\n{}'\n",
    "     .format(linreg.coef_))\n",
    "print('(poly deg 2 + ridge) linear model intercept (b): {:.3f}'\n",
    "     .format(linreg.intercept_))\n",
    "print('(poly deg 2 + ridge) R-squared score (training): {:.3f}'\n",
    "     .format(linreg.score(X_train, y_train)))\n",
    "print('(poly deg 2 + ridge) R-squared score (test): {:.3f}'\n",
    "     .format(linreg.score(X_test, y_test)))"
   ]
  }
 ],
 "metadata": {
  "kernelspec": {
   "display_name": "Python 3",
   "language": "python",
   "name": "python3"
  },
  "language_info": {
   "codemirror_mode": {
    "name": "ipython",
    "version": 3
   },
   "file_extension": ".py",
   "mimetype": "text/x-python",
   "name": "python",
   "nbconvert_exporter": "python",
   "pygments_lexer": "ipython3",
   "version": "3.6.7"
  }
 },
 "nbformat": 4,
 "nbformat_minor": 2
}
