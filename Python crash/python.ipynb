{
 "cells": [
  {
   "cell_type": "code",
   "execution_count": 1,
   "metadata": {},
   "outputs": [
    {
     "name": "stdout",
     "output_type": "stream",
     "text": [
      "Hello World\n"
     ]
    }
   ],
   "source": [
    "print(\"Hello World\")"
   ]
  },
  {
   "cell_type": "code",
   "execution_count": 2,
   "metadata": {},
   "outputs": [],
   "source": [
    "a = 12;"
   ]
  },
  {
   "cell_type": "code",
   "execution_count": 3,
   "metadata": {},
   "outputs": [],
   "source": [
    "b = \"This is string\""
   ]
  },
  {
   "cell_type": "code",
   "execution_count": 4,
   "metadata": {},
   "outputs": [],
   "source": [
    "c = 12.5"
   ]
  },
  {
   "cell_type": "code",
   "execution_count": 5,
   "metadata": {},
   "outputs": [
    {
     "name": "stdout",
     "output_type": "stream",
     "text": [
      "12 This is string 12.5\n"
     ]
    }
   ],
   "source": [
    "print(a,b,c)"
   ]
  },
  {
   "cell_type": "code",
   "execution_count": 6,
   "metadata": {},
   "outputs": [],
   "source": [
    "num1 = 12\n",
    "num2 = 4"
   ]
  },
  {
   "cell_type": "code",
   "execution_count": 7,
   "metadata": {},
   "outputs": [
    {
     "data": {
      "text/plain": [
       "16"
      ]
     },
     "execution_count": 7,
     "metadata": {},
     "output_type": "execute_result"
    }
   ],
   "source": [
    "result = num1 + num2\n",
    "result"
   ]
  },
  {
   "cell_type": "code",
   "execution_count": 8,
   "metadata": {},
   "outputs": [
    {
     "data": {
      "text/plain": [
       "8"
      ]
     },
     "execution_count": 8,
     "metadata": {},
     "output_type": "execute_result"
    }
   ],
   "source": [
    "result = num1 - num2\n",
    "result"
   ]
  },
  {
   "cell_type": "code",
   "execution_count": 9,
   "metadata": {},
   "outputs": [
    {
     "data": {
      "text/plain": [
       "48"
      ]
     },
     "execution_count": 9,
     "metadata": {},
     "output_type": "execute_result"
    }
   ],
   "source": [
    "result = num1 * num2\n",
    "result"
   ]
  },
  {
   "cell_type": "code",
   "execution_count": 10,
   "metadata": {},
   "outputs": [
    {
     "data": {
      "text/plain": [
       "3.0"
      ]
     },
     "execution_count": 10,
     "metadata": {},
     "output_type": "execute_result"
    }
   ],
   "source": [
    "result = num1 / num2\n",
    "result"
   ]
  },
  {
   "cell_type": "code",
   "execution_count": 11,
   "metadata": {},
   "outputs": [
    {
     "data": {
      "text/plain": [
       "0"
      ]
     },
     "execution_count": 11,
     "metadata": {},
     "output_type": "execute_result"
    }
   ],
   "source": [
    "result = num1 % num2\n",
    "result"
   ]
  },
  {
   "cell_type": "code",
   "execution_count": 12,
   "metadata": {},
   "outputs": [
    {
     "data": {
      "text/plain": [
       "20736"
      ]
     },
     "execution_count": 12,
     "metadata": {},
     "output_type": "execute_result"
    }
   ],
   "source": [
    "result = num1 ** num2\n",
    "result"
   ]
  },
  {
   "cell_type": "markdown",
   "metadata": {},
   "source": [
    "# Structure of if statements\n",
    "\n",
    "* if condition:\n",
    "    Statements\n",
    "* elif condition:\n",
    "    Statements\n",
    "* else:\n",
    "    Statements\n"
   ]
  },
  {
   "cell_type": "code",
   "execution_count": 13,
   "metadata": {},
   "outputs": [
    {
     "name": "stdout",
     "output_type": "stream",
     "text": [
      "Grade E\n",
      "Divisible\n"
     ]
    }
   ],
   "source": [
    "#Grade of a student\n",
    "\n",
    "marks = 90\n",
    "\n",
    "# No braces in Python, Indectation does the job\n",
    "\n",
    "if marks > 90:\n",
    "    print(\"Grade O\")\n",
    "elif marks > 80:\n",
    "    print(\"Grade E\")\n",
    "elif marks > 70:\n",
    "    print(\"Grade A\")\n",
    "elif marks > 60:\n",
    "    print(\"Grade B\")\n",
    "elif marks > 50:\n",
    "    print(\"Grade C\")\n",
    "else:\n",
    "    print(\"Better luck next time\")\n",
    "\n",
    "# Divisible or not\n",
    "\n",
    "number1 = 45\n",
    "number2 = 5\n",
    "\n",
    "if number1%number2 == 0:\n",
    "    print(\"Divisible\")\n",
    "else:\n",
    "    print(\"not divisible\")"
   ]
  },
  {
   "cell_type": "code",
   "execution_count": 14,
   "metadata": {},
   "outputs": [
    {
     "name": "stdout",
     "output_type": "stream",
     "text": [
      "1\n",
      "2\n",
      "3\n",
      "4\n",
      "5\n",
      "6\n",
      "7\n",
      "8\n",
      "9\n",
      "10\n"
     ]
    }
   ],
   "source": [
    "# While Loop\n",
    "\n",
    "\"\"\"\n",
    "while condition:\n",
    "    Statements\n",
    "\"\"\"\n",
    "\n",
    "i = 1;\n",
    "\n",
    "while i <= 10:\n",
    "    print(i)\n",
    "    i += 1"
   ]
  },
  {
   "cell_type": "code",
   "execution_count": 15,
   "metadata": {},
   "outputs": [
    {
     "name": "stdout",
     "output_type": "stream",
     "text": [
      "1\n",
      "2\n",
      "3\n",
      "4\n",
      "5\n",
      "6\n",
      "7\n",
      "8\n",
      "9\n",
      "10\n",
      "1 2 3 4 5 \n",
      "1 2 3 4 5 \n",
      "1 2 3 4 5 \n",
      "1 2 3 4 5 \n"
     ]
    }
   ],
   "source": [
    "# For loop\n",
    "    \n",
    "for i in range(1,11):\n",
    "    print(i)\n",
    "    \n",
    "# Nested Loops\n",
    "\n",
    "\"\"\"\n",
    "12345\n",
    "12345\n",
    "12345\n",
    "12345\n",
    "\"\"\"\n",
    "\n",
    "for i in range(1,5):\n",
    "    for j in range(1,6):\n",
    "        print(j,end=\" \")\n",
    "    print()\n",
    "    "
   ]
  },
  {
   "cell_type": "code",
   "execution_count": 16,
   "metadata": {},
   "outputs": [
    {
     "name": "stdout",
     "output_type": "stream",
     "text": [
      "1\n",
      "2\n",
      "3\n",
      "4\n",
      "5\n",
      "6\n",
      "7\n",
      "8\n",
      "9\n",
      "10\n"
     ]
    }
   ],
   "source": [
    "# Loop Control Statements\n",
    "\n",
    "i = 1\n",
    "\n",
    "while i <= 10:\n",
    "    print(i)\n",
    "    i += 1"
   ]
  },
  {
   "cell_type": "code",
   "execution_count": 19,
   "metadata": {},
   "outputs": [
    {
     "name": "stdout",
     "output_type": "stream",
     "text": [
      "1\n",
      "2\n",
      "3\n",
      "4\n",
      "5\n"
     ]
    }
   ],
   "source": [
    "# Break statement\n",
    "    \n",
    "i = 1\n",
    "\n",
    "while i <= 10:\n",
    "    if i > 5:\n",
    "\n",
    "        #come out of this loop\n",
    "        break\n",
    "    print(i)\n",
    "    i += 1"
   ]
  },
  {
   "cell_type": "code",
   "execution_count": 21,
   "metadata": {},
   "outputs": [
    {
     "name": "stdout",
     "output_type": "stream",
     "text": [
      "1\n",
      "2\n",
      "3\n",
      "8\n",
      "9\n",
      "10\n"
     ]
    }
   ],
   "source": [
    "# Continue\n",
    "    \n",
    "i = 1\n",
    "\n",
    "while i <= 10:\n",
    "    if i >= 4 and i <= 7:\n",
    "        i += 1\n",
    "        continue\n",
    "    print(i)\n",
    "    i += 1"
   ]
  },
  {
   "cell_type": "code",
   "execution_count": 22,
   "metadata": {},
   "outputs": [
    {
     "name": "stdout",
     "output_type": "stream",
     "text": [
      "1\n",
      "2\n",
      "3\n",
      "8\n",
      "9\n",
      "10\n"
     ]
    }
   ],
   "source": [
    "for i in range(1,11):\n",
    "    if i >= 4 and i <= 7:\n",
    "        continue\n",
    "    print(i)\n",
    "    \n",
    "    \n",
    "# Pass\n",
    "\n",
    "i = 1\n",
    "\n",
    "if i == 1:\n",
    "    pass\n",
    "else:\n",
    "    pass"
   ]
  },
  {
   "cell_type": "code",
   "execution_count": 31,
   "metadata": {},
   "outputs": [
    {
     "name": "stdout",
     "output_type": "stream",
     "text": [
      "[12, 12.8, 'This is a string']\n",
      "12\n",
      "12.8\n",
      "This is a string\n"
     ]
    }
   ],
   "source": [
    "# Non homogeneous collection of elements\n",
    "\n",
    "list1 = [12,12.8,'This is a string']\n",
    "\n",
    "# Printing the list\n",
    "\n",
    "print(list1)\n",
    "print(list1[0])\n",
    "print(list1[1])\n",
    "print(list1[2])"
   ]
  },
  {
   "cell_type": "code",
   "execution_count": 32,
   "metadata": {},
   "outputs": [
    {
     "name": "stdout",
     "output_type": "stream",
     "text": [
      "This is a string\n"
     ]
    }
   ],
   "source": [
    "# Adding elements to the list\n",
    "\n",
    "list1.append(50)\n",
    "list1.insert(0,'Another string')\n",
    "\n",
    "print(list1[3])"
   ]
  },
  {
   "cell_type": "code",
   "execution_count": 33,
   "metadata": {},
   "outputs": [
    {
     "name": "stdout",
     "output_type": "stream",
     "text": [
      "3\n"
     ]
    }
   ],
   "source": [
    "# Updating List\n",
    "\n",
    "list1[1] = 20\n",
    "\n",
    "# Deleting elements of the list\n",
    "\n",
    "list1.pop()\n",
    "\n",
    "del list1[2]\n",
    "\n",
    "# Length of the list\n",
    "\n",
    "print(len(list1))"
   ]
  },
  {
   "cell_type": "code",
   "execution_count": 34,
   "metadata": {},
   "outputs": [
    {
     "name": "stdout",
     "output_type": "stream",
     "text": [
      "Another string\n",
      "20\n",
      "This is a string\n"
     ]
    }
   ],
   "source": [
    "# Looping through List\n",
    "# Method 1 : Using Indexes (Mainly for updating)\n",
    "\n",
    "for i in range(0,len(list1)):\n",
    "    print(list1[i])\n",
    "    list1[i] = 12 # Something else"
   ]
  },
  {
   "cell_type": "code",
   "execution_count": 35,
   "metadata": {},
   "outputs": [
    {
     "name": "stdout",
     "output_type": "stream",
     "text": [
      "12\n",
      "12\n",
      "12\n"
     ]
    }
   ],
   "source": [
    "# Method 2 : For each technique (Mainly for accessing)\n",
    "    \n",
    "for item in list1:\n",
    "    print(item)"
   ]
  },
  {
   "cell_type": "code",
   "execution_count": 37,
   "metadata": {},
   "outputs": [
    {
     "name": "stdout",
     "output_type": "stream",
     "text": [
      "('This is a string', 14.5, 0.9, 500, 'Another string')\n",
      "14.5\n",
      "0.9\n",
      "500\n"
     ]
    }
   ],
   "source": [
    "# Same as List but immutable\n",
    "\n",
    "tuple1 = (12,)\n",
    "\n",
    "tuple1 = ('This is a string',14.5,0.9,500,'Another string')\n",
    "tuple2 = ('Next tuple',14.5,0.9,500)\n",
    "\n",
    "# Printing elements of tuples\n",
    "\n",
    "print(tuple1)\n",
    "print(tuple1[1])\n",
    "print(tuple1[2])\n",
    "print(tuple1[3])"
   ]
  },
  {
   "cell_type": "code",
   "execution_count": 38,
   "metadata": {},
   "outputs": [],
   "source": [
    "# Adding two tuples\n",
    "\n",
    "tuple3 = tuple1 + tuple2"
   ]
  },
  {
   "cell_type": "code",
   "execution_count": 39,
   "metadata": {},
   "outputs": [
    {
     "name": "stdout",
     "output_type": "stream",
     "text": [
      "9\n"
     ]
    }
   ],
   "source": [
    "\n",
    "# Length of a tuple\n",
    "\n",
    "print(len(tuple3))"
   ]
  },
  {
   "cell_type": "code",
   "execution_count": 40,
   "metadata": {},
   "outputs": [
    {
     "name": "stdout",
     "output_type": "stream",
     "text": [
      "This is a string\n",
      "14.5\n",
      "0.9\n",
      "500\n",
      "Another string\n"
     ]
    }
   ],
   "source": [
    "# Looping through a tuple\n",
    "\n",
    "# Method 1\n",
    "\n",
    "for i in range(0,len(tuple1)):\n",
    "    print(tuple1[i])"
   ]
  },
  {
   "cell_type": "code",
   "execution_count": 41,
   "metadata": {},
   "outputs": [
    {
     "name": "stdout",
     "output_type": "stream",
     "text": [
      "This is a string\n",
      "14.5\n",
      "0.9\n",
      "500\n",
      "Another string\n"
     ]
    }
   ],
   "source": [
    "# Method 2\n",
    "    \n",
    "for item in tuple1:\n",
    "    print(item)"
   ]
  },
  {
   "cell_type": "code",
   "execution_count": 42,
   "metadata": {},
   "outputs": [
    {
     "name": "stdout",
     "output_type": "stream",
     "text": [
      "{'apple': 'Apple is a fruit', 'orange': 'Orange is a fruit', 'car': 'Cars are fast', 'python': 'Python is a snake'}\n",
      "Apple is a fruit\n",
      "Cars are fast\n",
      "Python is a snake\n",
      "Does not exist\n"
     ]
    }
   ],
   "source": [
    "# Key - Value Pairs\n",
    "\n",
    "dict1 = {}\n",
    "\n",
    "# Adding elements to the dictinary\n",
    "\n",
    "dict1['apple'] = 'Apple is a fruit'\n",
    "dict1['orange'] = 'Orange is a fruit'\n",
    "dict1['car'] = 'Cars are fast'\n",
    "dict1['python'] = 'Python is a snake'\n",
    "\n",
    "# Printing dictionary elements\n",
    "\n",
    "print(dict1)\n",
    "print(dict1['apple'])\n",
    "print(dict1['car'])\n",
    "print(dict1['python'])\n",
    "\n",
    "print(dict1.get('jython','Does not exist'))"
   ]
  },
  {
   "cell_type": "code",
   "execution_count": 43,
   "metadata": {},
   "outputs": [
    {
     "name": "stdout",
     "output_type": "stream",
     "text": [
      "3\n"
     ]
    }
   ],
   "source": [
    "# Deleting elements\n",
    "\n",
    "del dict1['apple']\n",
    "\n",
    "# Length of a dictionary\n",
    "\n",
    "print(len(dict1))"
   ]
  },
  {
   "cell_type": "code",
   "execution_count": 44,
   "metadata": {},
   "outputs": [
    {
     "name": "stdout",
     "output_type": "stream",
     "text": [
      "Orange is a fruit\n",
      "Cars are fast\n",
      "Python is a snake\n"
     ]
    }
   ],
   "source": [
    "# List of keys and Values\n",
    "\n",
    "listOfKeys = list(dict1.keys())\n",
    "listOfValues = list(dict1.values())\n",
    "\n",
    "# Looping through lists\n",
    "\n",
    "for key in dict1.keys():\n",
    "    print(dict1[key])"
   ]
  },
  {
   "cell_type": "code",
   "execution_count": 45,
   "metadata": {},
   "outputs": [
    {
     "name": "stdout",
     "output_type": "stream",
     "text": [
      "Enter a number: 1\n",
      "Enter a number: 1\n",
      "2\n"
     ]
    }
   ],
   "source": [
    "# Console I/O\n",
    "\n",
    "inp = input('Enter a number: ')\n",
    "number1 = int(inp)\n",
    "\n",
    "inp = input('Enter a number: ')\n",
    "number2 = int(inp)\n",
    "\n",
    "print(number1+number2)"
   ]
  },
  {
   "cell_type": "code",
   "execution_count": 46,
   "metadata": {},
   "outputs": [
    {
     "name": "stdout",
     "output_type": "stream",
     "text": [
      "Enter some text: hello\n",
      "hello\n"
     ]
    }
   ],
   "source": [
    "# File I/O\n",
    "\n",
    "# Writing to a file\n",
    "\n",
    "inp = input('Enter some text: ')\n",
    "\n",
    "with open('textFile.txt','a') as f:\n",
    "    f.write(inp)\n",
    "    \n",
    "# Reading from a file\n",
    "    \n",
    "with open('textFile.txt','r') as f:\n",
    "    string = f.read()\n",
    "    print(string)"
   ]
  },
  {
   "cell_type": "code",
   "execution_count": 47,
   "metadata": {},
   "outputs": [
    {
     "name": "stdout",
     "output_type": "stream",
     "text": [
      "The number is 12\n"
     ]
    }
   ],
   "source": [
    "# Block of meaningful code\n",
    "\n",
    "def functionName(arg1,arg2):\n",
    "    print(arg1,arg2)\n",
    "    \n",
    "functionName('The number is',12)"
   ]
  },
  {
   "cell_type": "code",
   "execution_count": 48,
   "metadata": {},
   "outputs": [
    {
     "name": "stdout",
     "output_type": "stream",
     "text": [
      "27\n"
     ]
    }
   ],
   "source": [
    "def sumOfTwo(num1,num2):\n",
    "    return (num1+num2)\n",
    "\n",
    "print(sumOfTwo(12,15))"
   ]
  },
  {
   "cell_type": "code",
   "execution_count": 49,
   "metadata": {},
   "outputs": [
    {
     "name": "stdout",
     "output_type": "stream",
     "text": [
      "3\n"
     ]
    }
   ],
   "source": [
    "# Our own length function\n",
    "\n",
    "def length(l):\n",
    "    count = 0\n",
    "    for item in l:\n",
    "        count += 1\n",
    "    return count\n",
    "\n",
    "print(length([12,14,566]))"
   ]
  },
  {
   "cell_type": "code",
   "execution_count": 50,
   "metadata": {},
   "outputs": [
    {
     "name": "stdout",
     "output_type": "stream",
     "text": [
      "Fish is swimming\n",
      "Fish is eating\n"
     ]
    }
   ],
   "source": [
    "# Classes and Objects\n",
    "\n",
    "# Simple Class\n",
    "class Fish:\n",
    "    def swim(self):\n",
    "        print(\"Fish is swimming\")\n",
    "    def eat(self):\n",
    "        print(\"Fish is eating\")\n",
    "\n",
    "fish = Fish()\n",
    "fish.swim()\n",
    "fish.eat()"
   ]
  },
  {
   "cell_type": "code",
   "execution_count": 51,
   "metadata": {},
   "outputs": [
    {
     "name": "stdout",
     "output_type": "stream",
     "text": [
      "Counter Strike has started\n",
      "Counter Strike has stopped\n"
     ]
    }
   ],
   "source": [
    "# Overriding constructor\n",
    "class Game:\n",
    "    def __init__(self,name):\n",
    "        self.name = name\n",
    "    def start(self):\n",
    "        print(self.name,\"has started\")\n",
    "    def stop(self):\n",
    "        print(self.name,\"has stopped\")\n",
    "        \n",
    "game = Game(\"Counter Strike\")\n",
    "game.start()\n",
    "game.stop()"
   ]
  },
  {
   "cell_type": "code",
   "execution_count": 52,
   "metadata": {},
   "outputs": [],
   "source": [
    "# List comprehension in Python\n",
    "\n",
    "numbers = [1,2,3,4,5,6,7,8,9,10]\n",
    "\n",
    "# Copying using a loop\n",
    "newNumbers = []\n",
    "for number in numbers:\n",
    "    newNumbers.append(number)\n",
    "\n",
    "# Copying using list comprehension\n",
    "newNumbers = [number for number in numbers]\n",
    "\n",
    "# Copying and filtering based on condition\n",
    "newNumbers = [number for number in numbers if number <= 5]\n",
    "\n",
    "# Copying and filtering based on another list\n",
    "numbers2 = [1,3,5,7,9]\n",
    "newNumbers = [number for number in numbers if number not in numbers2]\n",
    "\n",
    "# Some more examples\n",
    "newNumbers = [number*2 for number in numbers]\n",
    "newNumbers = [number for number in numbers if number%2 == 1]\n",
    "\n",
    "# Generator Comprehension\n",
    "squareGen= (number**2 for number in numbers)\n",
    "list(squareGen)\n",
    "\n",
    "# Dictionary Comprehension\n",
    "myDict = {\"apple\":1,\"orange\":4,\"banana\":10}\n",
    "newDict = {key:myDict[key] for key in myDict.keys()}\n",
    "\n",
    "newDict = {key:myDict[key] for key in myDict.keys() if myDict[key] > 5}\n",
    "\n",
    "\n",
    "# Joining list of words\n",
    "words = [\"I\",\"love\",\"Avengers\",\"so\",\"much\"]\n",
    "sentence = ' '.join(words)\n",
    "sentence = '.'.join(words)"
   ]
  }
 ],
 "metadata": {
  "kernelspec": {
   "display_name": "Python 3",
   "language": "python",
   "name": "python3"
  },
  "language_info": {
   "codemirror_mode": {
    "name": "ipython",
    "version": 3
   },
   "file_extension": ".py",
   "mimetype": "text/x-python",
   "name": "python",
   "nbconvert_exporter": "python",
   "pygments_lexer": "ipython3",
   "version": "3.6.7"
  }
 },
 "nbformat": 4,
 "nbformat_minor": 2
}
