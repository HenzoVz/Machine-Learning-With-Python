{
 "cells": [
  {
   "cell_type": "code",
   "execution_count": 1,
   "metadata": {},
   "outputs": [],
   "source": [
    "import numpy as np"
   ]
  },
  {
   "cell_type": "code",
   "execution_count": 2,
   "metadata": {},
   "outputs": [],
   "source": [
    "class GaussianNB():\n",
    "    total_feature_media = {}\n",
    "    total_feature_variance = {}\n",
    "    \n",
    "    label_feature_mean = {}\n",
    "    label_feature_variance = {}\n",
    "\n",
    "    prob_labels = {}"
   ]
  },
  {
   "cell_type": "code",
   "execution_count": 3,
   "metadata": {},
   "outputs": [],
   "source": [
    "    def train(self, X, Y):\n",
    "        # Calculate mean / variance for all labels\n",
    "        total_X_mean = np.mean(X, axis=0)\n",
    "        total_X_var = np.var(X, axis=0)\n",
    "        \n",
    "        for feat_i in range(X.shape[1]):\n",
    "            self.total_feature_mean[feat_i] = total_X_mean[feat_i]\n",
    "            self.total_feature_variance[feat_i] = total_X_var[feat_i]\n",
    "        \n",
    "        # Calculate mean / variance for distinct labels\n",
    "        Y_unique = np.unique(Y)\n",
    "\n",
    "        for label in Y_unique:\n",
    "            self.label_feature_mean[label] = {}\n",
    "            self.label_feature_variance[label] = {}\n",
    "\n",
    "            row_idx = np.where(Y==label)\n",
    "            X_rows_by_label = X[row_idx, :][0]\n",
    "            self.prob_labels[label] = len(row_idx) / len(Y)\n",
    "            \n",
    "            X_mean = np.mean(X_rows_by_label, axis=0)\n",
    "            X_var = np.var(X_rows_by_label, axis=0)\n",
    "            \n",
    "            for feat_i in range(X.shape[1]):\n",
    "                self.label_feature_mean[label][feat_i] = X_mean[feat_i]\n",
    "                self.label_feature_variance[label][feat_i] = X_var[feat_i]\n",
    "\n",
    "\n",
    "    "
   ]
  },
  {
   "cell_type": "code",
   "execution_count": 8,
   "metadata": {},
   "outputs": [],
   "source": [
    "    def predict(self, features):\n",
    "        best_label = 0\n",
    "        best_prob = 0\n",
    "\n",
    "        for label in self.label_feature_mean:\n",
    "            # P(label|features) = P(features|label) * P(label) / P(features)\n",
    "            prob = self.prob_features_given_label(features, label) * self.prob_labels[label] / self.prob_features(features)\n",
    "            if prob > best_prob:\n",
    "                best_prob = prob\n",
    "                best_label = label\n",
    "        \n",
    "        return best_label"
   ]
  },
  {
   "cell_type": "code",
   "execution_count": 5,
   "metadata": {},
   "outputs": [],
   "source": [
    "    def prob_features_given_label(self, features, label):\n",
    "        prob = 1\n",
    "\n",
    "        for feat_i, feat in enumerate(features):\n",
    "            prob *= self.gaussian(feat, self.label_feature_mean[label][feat_i], self.label_feature_variance[label][feat_i])\n",
    "        \n",
    "        return prob\n",
    "    \n",
    "    \n"
   ]
  },
  {
   "cell_type": "code",
   "execution_count": 6,
   "metadata": {},
   "outputs": [],
   "source": [
    "    def prob_features(self, features):\n",
    "        prob = 0\n",
    "\n",
    "        for label in self.label_feature_mean:\n",
    "            prob += self.prob_features_given_label(features, label) * self.prob_labels[label]\n",
    "\n",
    "        return prob\n",
    "    \n",
    "\n"
   ]
  },
  {
   "cell_type": "code",
   "execution_count": 7,
   "metadata": {},
   "outputs": [],
   "source": [
    "    @staticmethod\n",
    "    def gaussian(x, mean, var):\n",
    "        return np.exp(-np.power(x-mean, 2) / (2*var)) / np.sqrt(2*np.pi*var)"
   ]
  },
  {
   "cell_type": "code",
   "execution_count": null,
   "metadata": {},
   "outputs": [],
   "source": []
  }
 ],
 "metadata": {
  "kernelspec": {
   "display_name": "Python 3",
   "language": "python",
   "name": "python3"
  },
  "language_info": {
   "codemirror_mode": {
    "name": "ipython",
    "version": 3
   },
   "file_extension": ".py",
   "mimetype": "text/x-python",
   "name": "python",
   "nbconvert_exporter": "python",
   "pygments_lexer": "ipython3",
   "version": "3.6.7"
  }
 },
 "nbformat": 4,
 "nbformat_minor": 2
}
