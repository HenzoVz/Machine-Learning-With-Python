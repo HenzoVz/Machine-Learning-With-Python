{
 "cells": [
  {
   "cell_type": "code",
   "execution_count": 2,
   "metadata": {},
   "outputs": [],
   "source": [
    "import pickle\n",
    "from sklearn.preprocessing import StandardScaler\n",
    "import numpy as np\n",
    "\n",
    "svm = pickle.load(open('svm_finalizado.sav', 'rb'))\n",
    "random_forest = pickle.load(open('random_forest_finalizado.sav', 'rb'))\n",
    "mlp = pickle.load(open('mlp_finalizado.sav', 'rb'))"
   ]
  },
  {
   "cell_type": "code",
   "execution_count": 3,
   "metadata": {},
   "outputs": [
    {
     "name": "stderr",
     "output_type": "stream",
     "text": [
      "C:\\Users\\Murilo\\Anaconda3\\envs\\py37\\lib\\site-packages\\sklearn\\utils\\validation.py:595: DataConversionWarning: Data with input dtype int32 was converted to float64 by StandardScaler.\n",
      "  warnings.warn(msg, DataConversionWarning)\n",
      "C:\\Users\\Murilo\\Anaconda3\\envs\\py37\\lib\\site-packages\\sklearn\\utils\\validation.py:595: DataConversionWarning: Data with input dtype int32 was converted to float64 by StandardScaler.\n",
      "  warnings.warn(msg, DataConversionWarning)\n"
     ]
    }
   ],
   "source": [
    "novo_registro = [[50000, 40, 5000]]\n",
    "novo_registro = np.asarray(novo_registro)\n",
    "novo_registro = novo_registro.reshape(-1, 1)\n",
    "scaler = StandardScaler()\n",
    "novo_registro = scaler.fit_transform(novo_registro)\n",
    "novo_registro = novo_registro.reshape(-1, 3)\n",
    "\n",
    "resposta_svm = svm.predict(novo_registro)\n",
    "resposta_random_forest = random_forest.predict(novo_registro)\n",
    "resposta_mlp = mlp.predict(novo_registro)\n",
    "\n",
    "probabilidade_svm = svm.predict_proba(novo_registro)\n",
    "confianca_svm = probabilidade_svm.max()\n",
    "\n",
    "probabilidade_random_forest = random_forest.predict_proba(novo_registro)\n",
    "confianca_random_forest = probabilidade_random_forest.max()\n",
    "\n",
    "probabilidade_mlp = mlp.predict_proba(novo_registro)\n",
    "confianca_mlp = probabilidade_mlp.max()"
   ]
  },
  {
   "cell_type": "code",
   "execution_count": 4,
   "metadata": {},
   "outputs": [
    {
     "name": "stdout",
     "output_type": "stream",
     "text": [
      "Cliente não pagará o empréstimo\n"
     ]
    }
   ],
   "source": [
    "paga = 0\n",
    "nao_paga = 0\n",
    "confianca_minima = 0.99999999\n",
    "\n",
    "if confianca_svm >= confianca_minima:\n",
    "    if resposta_svm[0] == 1:\n",
    "        paga += 1\n",
    "    else:\n",
    "        nao_paga += 1\n",
    "    \n",
    "if confianca_random_forest >= confianca_minima:\n",
    "    if resposta_random_forest[0] == 1:\n",
    "        paga += 1\n",
    "    else:\n",
    "        nao_paga += 1\n",
    "    \n",
    "if confianca_mlp >= confianca_minima:\n",
    "    if resposta_mlp[0] == 1:\n",
    "        paga += 1\n",
    "    else:\n",
    "        nao_paga += 1\n",
    "    \n",
    "if paga > nao_paga:\n",
    "    print('Cliente pagará o empréstimo')\n",
    "elif paga == nao_paga:\n",
    "    print('Resultado empatado')\n",
    "else:\n",
    "    print('Cliente não pagará o empréstimo')"
   ]
  }
 ],
 "metadata": {
  "kernelspec": {
   "display_name": "Python 3",
   "language": "python",
   "name": "python3"
  },
  "language_info": {
   "codemirror_mode": {
    "name": "ipython",
    "version": 3
   },
   "file_extension": ".py",
   "mimetype": "text/x-python",
   "name": "python",
   "nbconvert_exporter": "python",
   "pygments_lexer": "ipython3",
   "version": "3.6.7"
  }
 },
 "nbformat": 4,
 "nbformat_minor": 2
}
